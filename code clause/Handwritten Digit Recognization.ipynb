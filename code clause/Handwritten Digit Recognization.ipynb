{
 "cells": [
  {
   "cell_type": "markdown",
   "id": "cf46607a",
   "metadata": {},
   "source": [
    "# Handwritten Digit Recognization"
   ]
  },
  {
   "cell_type": "markdown",
   "id": "796634e3",
   "metadata": {},
   "source": [
    "### import the Libraries"
   ]
  },
  {
   "cell_type": "code",
   "execution_count": 22,
   "id": "b8e9e6f0",
   "metadata": {},
   "outputs": [
    {
     "name": "stdout",
     "output_type": "stream",
     "text": [
      "(60000, 28, 28) (60000,)\n",
      "(10000, 28, 28) (10000,)\n"
     ]
    }
   ],
   "source": [
    "import keras\n",
    "from keras.datasets import mnist\n",
    "from keras.models import Sequential\n",
    "from keras.layers import Dense, Dropout, Flatten\n",
    "from keras.layers import Conv2D, MaxPooling2D\n",
    "from keras import backend as K\n",
    "\n",
    "(x_train, y_train), (x_test, y_test) = mnist.load_data()\n",
    "print(x_train.shape, y_train.shape)\n",
    "print(x_test.shape, y_test.shape)"
   ]
  },
  {
   "cell_type": "markdown",
   "id": "ae343ca1",
   "metadata": {},
   "source": [
    "### Preprocessing the data"
   ]
  },
  {
   "cell_type": "code",
   "execution_count": 23,
   "id": "2d50e232",
   "metadata": {},
   "outputs": [
    {
     "name": "stdout",
     "output_type": "stream",
     "text": [
      "x_train shape: (60000, 28, 28, 1)\n",
      "60000 train samples\n",
      "10000 test samples\n"
     ]
    }
   ],
   "source": [
    "num_classes=10\n",
    "x_train = x_train.reshape(x_train.shape[0], 28, 28, 1)\n",
    "x_test = x_test.reshape(x_test.shape[0], 28, 28, 1)\n",
    "input_shape = (28, 28, 1)\n",
    "\n",
    "y_train = keras.utils.to_categorical(y_train, num_classes)\n",
    "y_test = keras.utils.to_categorical(y_test, num_classes)\n",
    "x_train = x_train.astype('float32')\n",
    "x_test = x_test.astype('float32')\n",
    "x_train = x_train/255\n",
    "x_test = x_test/255\n",
    "print('x_train shape:', x_train.shape)\n",
    "print(x_train.shape[0], 'train samples')\n",
    "print(x_test.shape[0], 'test samples')"
   ]
  },
  {
   "cell_type": "markdown",
   "id": "bbd046c0",
   "metadata": {},
   "source": [
    "### Creating the model"
   ]
  },
  {
   "cell_type": "code",
   "execution_count": 24,
   "id": "f3e27b0d",
   "metadata": {},
   "outputs": [],
   "source": [
    "batch_size = 128\n",
    "num_classes = 10\n",
    "epochs = 10\n",
    "model = Sequential()\n",
    "model.add(Conv2D(32, kernel_size=(3, 3),activation='relu',input_shape=input_shape))\n",
    "model.add(Conv2D(64, (3, 3), activation='relu'))\n",
    "model.add(MaxPooling2D(pool_size=(2, 2)))\n",
    "model.add(Dropout(0.25))\n",
    "model.add(Flatten())\n",
    "model.add(Dense(256, activation='relu'))\n",
    "model.add(Dropout(0.5))\n",
    "model.add(Dense(num_classes, activation='softmax'))\n",
    "model.compile(loss=keras.losses.categorical_crossentropy,optimizer=keras.optimizers.Adadelta(),metrics=['accuracy'])\n"
   ]
  },
  {
   "cell_type": "code",
   "execution_count": 25,
   "id": "2c066667",
   "metadata": {},
   "outputs": [],
   "source": [
    "model.save('mnist_model.keras')"
   ]
  },
  {
   "cell_type": "markdown",
   "id": "1b132cb5",
   "metadata": {},
   "source": [
    "### Train the model"
   ]
  },
  {
   "cell_type": "code",
   "execution_count": 14,
   "id": "faaa1042",
   "metadata": {},
   "outputs": [
    {
     "name": "stdout",
     "output_type": "stream",
     "text": [
      "Epoch 1/10\n",
      "469/469 [==============================] - 93s 198ms/step - loss: 2.2444 - accuracy: 0.2248 - val_loss: 2.1878 - val_accuracy: 0.5111\n",
      "Epoch 2/10\n",
      "469/469 [==============================] - 107s 228ms/step - loss: 2.1539 - accuracy: 0.3737 - val_loss: 2.0724 - val_accuracy: 0.6495\n",
      "Epoch 3/10\n",
      "469/469 [==============================] - 106s 225ms/step - loss: 2.0301 - accuracy: 0.4893 - val_loss: 1.9093 - val_accuracy: 0.7257\n",
      "Epoch 4/10\n",
      "469/469 [==============================] - 104s 221ms/step - loss: 1.8565 - accuracy: 0.5756 - val_loss: 1.6875 - val_accuracy: 0.7566\n",
      "Epoch 5/10\n",
      "469/469 [==============================] - 111s 237ms/step - loss: 1.6398 - accuracy: 0.6260 - val_loss: 1.4279 - val_accuracy: 0.7783\n",
      "Epoch 6/10\n",
      "469/469 [==============================] - 102s 218ms/step - loss: 1.4106 - accuracy: 0.6649 - val_loss: 1.1757 - val_accuracy: 0.7973\n",
      "Epoch 7/10\n",
      "469/469 [==============================] - 104s 223ms/step - loss: 1.2114 - accuracy: 0.6916 - val_loss: 0.9712 - val_accuracy: 0.8137\n",
      "Epoch 8/10\n",
      "469/469 [==============================] - 104s 222ms/step - loss: 1.0535 - accuracy: 0.7157 - val_loss: 0.8215 - val_accuracy: 0.8261\n",
      "Epoch 9/10\n",
      "469/469 [==============================] - 105s 224ms/step - loss: 0.9420 - accuracy: 0.7354 - val_loss: 0.7163 - val_accuracy: 0.8375\n",
      "Epoch 10/10\n",
      "469/469 [==============================] - 102s 218ms/step - loss: 0.8548 - accuracy: 0.7520 - val_loss: 0.6399 - val_accuracy: 0.8476\n",
      "The model has successfully trained\n",
      "Model saved as mnist_model.keras\n"
     ]
    }
   ],
   "source": [
    "hist = model.fit(x_train, y_train, batch_size=batch_size, epochs=epochs, verbose=1, validation_data=(x_test, y_test))\n",
    "print(\"The model has successfully trained\")\n",
    "\n",
    "model.save('mnist_model.keras')\n",
    "\n",
    "print(\"Model saved as mnist_model.keras\")"
   ]
  },
  {
   "cell_type": "markdown",
   "id": "987292e2",
   "metadata": {},
   "source": [
    "### Evaluating the Model"
   ]
  },
  {
   "cell_type": "code",
   "execution_count": 26,
   "id": "3ba3dd9b",
   "metadata": {},
   "outputs": [
    {
     "name": "stdout",
     "output_type": "stream",
     "text": [
      "Test loss: 2.3012683391571045\n",
      "Test accuracy: 0.11940000206232071\n"
     ]
    }
   ],
   "source": [
    "score = model.evaluate(x_test, y_test, verbose=0)\n",
    "print('Test loss:', score[0])\n",
    "print('Test accuracy:', score[1])"
   ]
  },
  {
   "cell_type": "markdown",
   "id": "99494b47",
   "metadata": {},
   "source": [
    "### Creating GUI to Predict the Digits"
   ]
  },
  {
   "cell_type": "code",
   "execution_count": 1,
   "id": "f8159095",
   "metadata": {},
   "outputs": [],
   "source": [
    "from keras.models import load_model\n",
    "from tkinter import *\n",
    "import tkinter as tk\n",
    "import win32gui\n",
    "from PIL import ImageGrab, Image\n",
    "import numpy as np"
   ]
  },
  {
   "cell_type": "markdown",
   "id": "53dbc996",
   "metadata": {},
   "source": [
    "### Testing the model"
   ]
  },
  {
   "cell_type": "code",
   "execution_count": 2,
   "id": "6b9ff36f",
   "metadata": {},
   "outputs": [
    {
     "name": "stdout",
     "output_type": "stream",
     "text": [
      "1/1 [==============================] - 0s 415ms/step\n"
     ]
    }
   ],
   "source": [
    "# Load your model\n",
    "model = load_model('mnist.h5')\n",
    "\n",
    "def predict_digit(img):\n",
    "    img = img.resize((28,28))\n",
    "    img = img.convert('L')\n",
    "    img = np.array(img)\n",
    "    img = img.reshape(1,28,28,1)\n",
    "    img = img/255.0\n",
    "    res = model.predict([img])[0]\n",
    "    return np.argmax(res), max(res)\n",
    "\n",
    "class App(tk.Tk):\n",
    "    def __init__(self):\n",
    "        tk.Tk.__init__(self)\n",
    "        self.x = self.y = 0\n",
    "        #self.title(\"Handwriting Recognition App\")\n",
    "        self.canvas = tk.Canvas(self, width=400, height=400, bg=\"Blue\", cursor=\"cross\")\n",
    "        self.label = tk.Label(self, text=\"Thinking....\", font=(\"Helvetica\", 50))\n",
    "        self.classify_btn = tk.Button(self, text=\"Recognize\", command =       self.classify_handwriting)\n",
    "        self.button_clear = tk.Button(self, text=\"Clear\", command = self.clear_all)\n",
    "        \n",
    "        self.canvas.grid(row=0, column=0, pady=2, sticky='w', )\n",
    "        self.label.grid(row=0, column=1, pady=2, padx=2)\n",
    "        self.classify_btn.grid(row=1, column=1, pady=2, padx=2)\n",
    "        self.button_clear.grid(row=1, column=0, pady=2)\n",
    "        \n",
    "        self.canvas.bind(\"<B1-Motion>\", self.draw_lines)\n",
    "\n",
    "    def classify_handwriting(self):\n",
    "        HWND = self.canvas.winfo_id()\n",
    "        rect = win32gui.GetWindowRect(HWND)\n",
    "        im = ImageGrab.grab(rect)\n",
    "        digit, acc = predict_digit(im)\n",
    "        self.label.configure(text= str(digit)+', '+ str(int(acc*100))+'%')\n",
    "\n",
    "    def clear_all(self):\n",
    "        self.canvas.delete(\"all\")\n",
    "\n",
    "    def draw_lines(self, event):\n",
    "        self.x = event.x\n",
    "        self.y = event.y\n",
    "        r=8\n",
    "        self.canvas.create_oval(self.x-r, self.y-r, self.x + r, self.y + r, fill='black')\n",
    "\n",
    "app = App()\n",
    "mainloop()"
   ]
  },
  {
   "cell_type": "code",
   "execution_count": 6,
   "id": "c680fad7",
   "metadata": {},
   "outputs": [
    {
     "name": "stderr",
     "output_type": "stream",
     "text": [
      "WARNING:absl:Skipping variable loading for optimizer 'Adadelta', because it has 17 variables whereas the saved optimizer has 1 variables. \n"
     ]
    },
    {
     "name": "stdout",
     "output_type": "stream",
     "text": [
      "313/313 [==============================] - 4s 13ms/step\n",
      "Actual Digit: 7, Predicted Digit: 8\n",
      "Actual Digit: 2, Predicted Digit: 4\n",
      "Actual Digit: 1, Predicted Digit: 9\n",
      "Actual Digit: 0, Predicted Digit: 4\n",
      "Actual Digit: 4, Predicted Digit: 6\n",
      "Actual Digit: 1, Predicted Digit: 7\n",
      "Actual Digit: 4, Predicted Digit: 4\n",
      "Actual Digit: 9, Predicted Digit: 6\n",
      "Actual Digit: 5, Predicted Digit: 6\n",
      "Actual Digit: 9, Predicted Digit: 7\n"
     ]
    }
   ],
   "source": [
    "from keras.datasets import mnist\n",
    "import numpy as np\n",
    "\n",
    "# Load MNIST dataset\n",
    "(_, _), (x_test, y_test) = mnist.load_data()\n",
    "\n",
    "# Normalize and reshape the test data\n",
    "x_test = x_test.astype('float32') / 255.0\n",
    "x_test = x_test.reshape(x_test.shape[0], 28, 28, 1)\n",
    "\n",
    "# Load your trained model\n",
    "model = load_model('mnist_model.keras')\n",
    "\n",
    "# Make predictions\n",
    "predictions = model.predict(x_test)\n",
    "\n",
    "# Display the predicted digits\n",
    "for i in range(10):  # Display the first 10 predictions\n",
    "    predicted_digit = np.argmax(predictions[i])\n",
    "    actual_digit = y_test[i]\n",
    "    print(f\"Actual Digit: {actual_digit}, Predicted Digit: {predicted_digit}\")\n"
   ]
  },
  {
   "cell_type": "code",
   "execution_count": 3,
   "id": "189c1766",
   "metadata": {},
   "outputs": [
    {
     "name": "stderr",
     "output_type": "stream",
     "text": [
      "WARNING:absl:Skipping variable loading for optimizer 'Adadelta', because it has 17 variables whereas the saved optimizer has 1 variables. \n"
     ]
    },
    {
     "name": "stdout",
     "output_type": "stream",
     "text": [
      "1/1 [==============================] - 0s 102ms/step\n",
      "1/1 [==============================] - 0s 24ms/step\n",
      "1/1 [==============================] - 0s 28ms/step\n"
     ]
    },
    {
     "name": "stderr",
     "output_type": "stream",
     "text": [
      "WARNING:absl:Skipping variable loading for optimizer 'Adadelta', because it has 17 variables whereas the saved optimizer has 1 variables. \n"
     ]
    },
    {
     "name": "stdout",
     "output_type": "stream",
     "text": [
      "313/313 [==============================] - 3s 10ms/step\n",
      "Actual Digit: 7, Predicted Digit: 8\n",
      "Actual Digit: 2, Predicted Digit: 4\n",
      "Actual Digit: 1, Predicted Digit: 9\n",
      "Actual Digit: 0, Predicted Digit: 4\n",
      "Actual Digit: 4, Predicted Digit: 6\n",
      "Actual Digit: 1, Predicted Digit: 7\n",
      "Actual Digit: 4, Predicted Digit: 4\n",
      "Actual Digit: 9, Predicted Digit: 6\n",
      "Actual Digit: 5, Predicted Digit: 6\n",
      "Actual Digit: 9, Predicted Digit: 7\n"
     ]
    }
   ],
   "source": [
    "import tkinter as tk\n",
    "from PIL import ImageGrab, Image\n",
    "import numpy as np\n",
    "from keras.models import load_model\n",
    "\n",
    "# Load your model\n",
    "model = load_model('mnist_model.keras')  # Replace with the correct model filename\n",
    "\n",
    "def predict_digit(img):\n",
    "    img = img.resize((28, 28))\n",
    "    img = img.convert('L')\n",
    "    img = np.array(img)\n",
    "    img = img.reshape(1, 28, 28, 1)\n",
    "    img = img / 255.0\n",
    "    res = model.predict(img)\n",
    "    return np.argmax(res), max(res[0])\n",
    "\n",
    "class App(tk.Tk):\n",
    "    def __init__(self):\n",
    "        tk.Tk.__init__(self)\n",
    "        self.x = self.y = 0\n",
    "        self.title(\"Handwritten Digit Recognition App\")\n",
    "        self.canvas = tk.Canvas(self, width=400, height=400, bg=\"Blue\", cursor=\"cross\")\n",
    "        self.label = tk.Label(self, text=\"Thinking....\", font=(\"Helvetica\", 50))\n",
    "        self.classify_btn = tk.Button(self, text=\"Recognize\", command=self.classify_handwriting)\n",
    "        self.button_clear = tk.Button(self, text=\"Clear\", command=self.clear_all)\n",
    "        \n",
    "        self.canvas.grid(row=0, column=0, pady=2, sticky='w')\n",
    "        self.label.grid(row=0, column=1, pady=2, padx=2)\n",
    "        self.classify_btn.grid(row=1, column=1, pady=2, padx=2)\n",
    "        self.button_clear.grid(row=1, column=0, pady=2)\n",
    "        \n",
    "        self.canvas.bind(\"<ButtonRelease-1>\", self.classify_handwriting)\n",
    "        self.canvas.bind(\"<B1-Motion>\", self.draw_lines)\n",
    "\n",
    "    def classify_handwriting(self, event=None):\n",
    "        x = self.winfo_rootx() + self.canvas.winfo_x()\n",
    "        y = self.winfo_rooty() + self.canvas.winfo_y()\n",
    "        x1 = x + self.canvas.winfo_width()\n",
    "        y1 = y + self.canvas.winfo_height()\n",
    "        im = ImageGrab.grab((x, y, x1, y1))\n",
    "        digit, acc = predict_digit(im)\n",
    "        self.label.configure(text=f\"Predicted Digit: {digit}, Confidence: {int(acc*100)}%\")\n",
    "\n",
    "    def clear_all(self):\n",
    "        self.canvas.delete(\"all\")\n",
    "        self.label.configure(text=\"Draw a digit and click 'Recognize'\")\n",
    "\n",
    "    def draw_lines(self, event):\n",
    "        self.x = event.x\n",
    "        self.y = event.y\n",
    "        r = 8\n",
    "        self.canvas.create_oval(self.x - r, self.y - r, self.x + r, self.y + r, fill='black')\n",
    "\n",
    "app = App()\n",
    "app.mainloop()\n",
    "\n",
    "from keras.datasets import mnist\n",
    "import numpy as np\n",
    "\n",
    "# Load MNIST dataset\n",
    "(_, _), (x_test, y_test) = mnist.load_data()\n",
    "\n",
    "# Normalize and reshape the test data\n",
    "x_test = x_test.astype('float32') / 255.0\n",
    "x_test = x_test.reshape(x_test.shape[0], 28, 28, 1)\n",
    "\n",
    "# Load your trained model\n",
    "model = load_model('mnist_model.keras')\n",
    "\n",
    "# Make predictions\n",
    "predictions = model.predict(x_test)\n",
    "\n",
    "# Display the predicted digits\n",
    "for i in range(10):  # Display the first 10 predictions\n",
    "    predicted_digit = np.argmax(predictions[i])\n",
    "    actual_digit = y_test[i]\n",
    "    print(f\"Actual Digit: {actual_digit}, Predicted Digit: {predicted_digit}\")\n",
    "\n"
   ]
  },
  {
   "cell_type": "code",
   "execution_count": null,
   "id": "49f44387",
   "metadata": {},
   "outputs": [],
   "source": []
  }
 ],
 "metadata": {
  "kernelspec": {
   "display_name": "Python 3 (ipykernel)",
   "language": "python",
   "name": "python3"
  },
  "language_info": {
   "codemirror_mode": {
    "name": "ipython",
    "version": 3
   },
   "file_extension": ".py",
   "mimetype": "text/x-python",
   "name": "python",
   "nbconvert_exporter": "python",
   "pygments_lexer": "ipython3",
   "version": "3.11.4"
  }
 },
 "nbformat": 4,
 "nbformat_minor": 5
}
